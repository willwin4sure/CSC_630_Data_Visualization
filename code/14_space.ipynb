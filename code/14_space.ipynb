{
 "cells": [
  {
   "cell_type": "code",
   "execution_count": 16,
   "metadata": {},
   "outputs": [
    {
     "data": {
      "text/html": [
       "\n",
       "<div id=\"altair-viz-6b88763d5d5a40f28633dd9a865ad2d0\"></div>\n",
       "<script type=\"text/javascript\">\n",
       "  var VEGA_DEBUG = (typeof VEGA_DEBUG == \"undefined\") ? {} : VEGA_DEBUG;\n",
       "  (function(spec, embedOpt){\n",
       "    let outputDiv = document.currentScript.previousElementSibling;\n",
       "    if (outputDiv.id !== \"altair-viz-6b88763d5d5a40f28633dd9a865ad2d0\") {\n",
       "      outputDiv = document.getElementById(\"altair-viz-6b88763d5d5a40f28633dd9a865ad2d0\");\n",
       "    }\n",
       "    const paths = {\n",
       "      \"vega\": \"https://cdn.jsdelivr.net/npm//vega@5?noext\",\n",
       "      \"vega-lib\": \"https://cdn.jsdelivr.net/npm//vega-lib?noext\",\n",
       "      \"vega-lite\": \"https://cdn.jsdelivr.net/npm//vega-lite@4.17.0?noext\",\n",
       "      \"vega-embed\": \"https://cdn.jsdelivr.net/npm//vega-embed@6?noext\",\n",
       "    };\n",
       "\n",
       "    function maybeLoadScript(lib, version) {\n",
       "      var key = `${lib.replace(\"-\", \"\")}_version`;\n",
       "      return (VEGA_DEBUG[key] == version) ?\n",
       "        Promise.resolve(paths[lib]) :\n",
       "        new Promise(function(resolve, reject) {\n",
       "          var s = document.createElement('script');\n",
       "          document.getElementsByTagName(\"head\")[0].appendChild(s);\n",
       "          s.async = true;\n",
       "          s.onload = () => {\n",
       "            VEGA_DEBUG[key] = version;\n",
       "            return resolve(paths[lib]);\n",
       "          };\n",
       "          s.onerror = () => reject(`Error loading script: ${paths[lib]}`);\n",
       "          s.src = paths[lib];\n",
       "        });\n",
       "    }\n",
       "\n",
       "    function showError(err) {\n",
       "      outputDiv.innerHTML = `<div class=\"error\" style=\"color:red;\">${err}</div>`;\n",
       "      throw err;\n",
       "    }\n",
       "\n",
       "    function displayChart(vegaEmbed) {\n",
       "      vegaEmbed(outputDiv, spec, embedOpt)\n",
       "        .catch(err => showError(`Javascript Error: ${err.message}<br>This usually means there's a typo in your chart specification. See the javascript console for the full traceback.`));\n",
       "    }\n",
       "\n",
       "    if(typeof define === \"function\" && define.amd) {\n",
       "      requirejs.config({paths});\n",
       "      require([\"vega-embed\"], displayChart, err => showError(`Error loading script: ${err.message}`));\n",
       "    } else {\n",
       "      maybeLoadScript(\"vega\", \"5\")\n",
       "        .then(() => maybeLoadScript(\"vega-lite\", \"4.17.0\"))\n",
       "        .then(() => maybeLoadScript(\"vega-embed\", \"6\"))\n",
       "        .catch(showError)\n",
       "        .then(() => displayChart(vegaEmbed));\n",
       "    }\n",
       "  })({\"config\": {\"view\": {\"continuousWidth\": 400, \"continuousHeight\": 300}}, \"layer\": [{\"mark\": \"bar\", \"encoding\": {\"x\": {\"axis\": {\"title\": \"Mars Mission\"}, \"field\": \"mission\", \"sort\": [\"Vikings\", \"Curiosity\", \"Perseverance\", \"Observer\", \"Exploration Rovers\"], \"type\": \"nominal\"}, \"y\": {\"axis\": {\"title\": \"Cost, in Billions of Dollars\"}, \"field\": \"cost\", \"type\": \"quantitative\"}}, \"title\": \"Cost of Mars Missions\", \"width\": 300}, {\"mark\": {\"type\": \"text\", \"align\": \"center\", \"dy\": -5}, \"encoding\": {\"text\": {\"field\": \"year\", \"type\": \"quantitative\"}, \"x\": {\"axis\": {\"title\": \"Mars Mission\"}, \"field\": \"mission\", \"sort\": [\"Vikings\", \"Curiosity\", \"Perseverance\", \"Observer\", \"Exploration Rovers\"], \"type\": \"nominal\"}, \"y\": {\"axis\": {\"title\": \"Cost, in Billions of Dollars\"}, \"field\": \"cost\", \"type\": \"quantitative\"}}, \"title\": \"Cost of Mars Missions\", \"width\": 300}], \"data\": {\"name\": \"data-27847bac0c72903ba92230340dd9bf00\"}, \"$schema\": \"https://vega.github.io/schema/vega-lite/v4.17.0.json\", \"datasets\": {\"data-27847bac0c72903ba92230340dd9bf00\": [{\"mission\": \"Vikings\", \"cost\": 7.1, \"year\": 1975}, {\"mission\": \"Curiosity\", \"cost\": 3.2, \"year\": 2011}, {\"mission\": \"Perseverance\", \"cost\": 2.9, \"year\": 2020}, {\"mission\": \"Observer\", \"cost\": 1.7, \"year\": 1993}, {\"mission\": \"Exploration Rovers\", \"cost\": 1.2, \"year\": 2003}]}}, {\"mode\": \"vega-lite\"});\n",
       "</script>"
      ],
      "text/plain": [
       "alt.LayerChart(...)"
      ]
     },
     "execution_count": 16,
     "metadata": {},
     "output_type": "execute_result"
    }
   ],
   "source": [
    "import altair as alt\n",
    "import pandas as pd\n",
    "\n",
    "data = pd.DataFrame({\"mission\":[\"Vikings\", \"Curiosity\", \"Perseverance\", \"Observer\", \"Exploration Rovers\"], \"cost\":[7.1, 3.2, 2.9, 1.7, 1.2], \"year\": [1975, 2011, 2020, 1993, 2003]})\n",
    "\n",
    "\n",
    "bars = alt.Chart(data).mark_bar().encode(\n",
    "    x=alt.X('mission', axis = alt.Axis(title=\"Mars Mission\"), sort=list(data['mission'])),\n",
    "    y=alt.Y('cost', axis = alt.Axis(title=\"Cost, in Billions of Dollars\"))\n",
    ").properties(\n",
    "    title=\"Cost of Mars Missions\",\n",
    "    width=300,\n",
    ")\n",
    "\n",
    "text = bars.mark_text(\n",
    "    align='center',\n",
    "    dy=-5\n",
    ").encode(\n",
    "    text='year'\n",
    ")\n",
    "\n",
    "bars + text\n"
   ]
  },
  {
   "cell_type": "code",
   "execution_count": null,
   "metadata": {},
   "outputs": [],
   "source": []
  }
 ],
 "metadata": {
  "interpreter": {
   "hash": "ac59ebe37160ed0dfa835113d9b8498d9f09ceb179beaac4002f036b9467c963"
  },
  "kernelspec": {
   "display_name": "Python 3.9.6 64-bit",
   "language": "python",
   "name": "python3"
  },
  "language_info": {
   "codemirror_mode": {
    "name": "ipython",
    "version": 3
   },
   "file_extension": ".py",
   "mimetype": "text/x-python",
   "name": "python",
   "nbconvert_exporter": "python",
   "pygments_lexer": "ipython3",
   "version": "3.9.6"
  },
  "orig_nbformat": 4
 },
 "nbformat": 4,
 "nbformat_minor": 2
}
